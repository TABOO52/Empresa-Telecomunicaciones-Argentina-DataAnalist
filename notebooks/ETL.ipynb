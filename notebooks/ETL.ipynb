{
 "cells": [
  {
   "cell_type": "code",
   "execution_count": 40,
   "metadata": {},
   "outputs": [],
   "source": [
    "import pandas as pd\n",
    "import numpy as np\n",
    "from unidecode import unidecode"
   ]
  },
  {
   "cell_type": "code",
   "execution_count": 3,
   "metadata": {},
   "outputs": [],
   "source": [
    "basepath = 'C:/Users/fate8/Desktop/PI2/'"
   ]
  },
  {
   "cell_type": "code",
   "execution_count": 4,
   "metadata": {},
   "outputs": [],
   "source": [
    "internet = basepath + 'data/Internet.xlsx'\n",
    "portabilidad = basepath + 'data/Portabilidad.xlsx'\n",
    "servicios_postales = basepath + 'data/servicios_postales.xlsx'\n",
    "telefonia_fija = basepath + 'data/Telefonia_fija.xlsx'\n",
    "mapa_conectividad = basepath + 'data/mapa_conectividad.xlsx'"
   ]
  },
  {
   "cell_type": "code",
   "execution_count": 5,
   "metadata": {},
   "outputs": [],
   "source": [
    "df_CP1 = pd.read_excel(internet ,sheet_name= 'Velocidad % por prov')\n",
    "df_CP2 = pd.read_excel(internet ,sheet_name= 'Penetración-poblacion')\n",
    "df_CP3 = pd.read_excel(internet ,sheet_name= 'Penetracion-hogares')\n",
    "df_CP4 = pd.read_excel(internet ,sheet_name= 'Penetracion-totales')\n",
    "df_CP5 = pd.read_excel(internet ,sheet_name= 'Accesos por velocidad')\n",
    "df_CP6 = pd.read_excel(internet ,sheet_name= 'Ingresos')\n",
    "\n",
    "df_CC1 = pd.read_excel(mapa_conectividad ,sheet_name= 'Hoja3')\n",
    "df_CC2 = pd.read_excel(portabilidad ,sheet_name= 'Portin')\n",
    "df_CC3 = pd.read_excel(servicios_postales ,sheet_name= 'unidades_telegraficas')\n",
    "df_CC4 = pd.read_excel(servicios_postales ,sheet_name= 'unidades_monetarios')\n",
    "df_CC5 = pd.read_excel(telefonia_fija ,sheet_name= 'Fija_ingresos')\n",
    "\n"
   ]
  },
  {
   "cell_type": "markdown",
   "metadata": {},
   "source": [
    "   # Índice\n",
    "\n",
    "   1. [Drop columns](#drop-columns)\n",
    "   2. [Order](#order)\n",
    "   3. [Rename](#rename)\n",
    "   "
   ]
  },
  {
   "cell_type": "code",
   "execution_count": 14,
   "metadata": {},
   "outputs": [],
   "source": [
    "df_CP1 = df_CP1.reset_index()\n",
    "df_CP2 = df_CP2.reset_index()\n",
    "df_CP3 = df_CP3.reset_index()"
   ]
  },
  {
   "cell_type": "code",
   "execution_count": 12,
   "metadata": {},
   "outputs": [
    {
     "data": {
      "text/plain": [
       "(960, 4)"
      ]
     },
     "execution_count": 12,
     "metadata": {},
     "output_type": "execute_result"
    }
   ],
   "source": [
    "df_CP2"
   ]
  },
  {
   "cell_type": "code",
   "execution_count": 19,
   "metadata": {},
   "outputs": [
    {
     "data": {
      "text/html": [
       "<div>\n",
       "<style scoped>\n",
       "    .dataframe tbody tr th:only-of-type {\n",
       "        vertical-align: middle;\n",
       "    }\n",
       "\n",
       "    .dataframe tbody tr th {\n",
       "        vertical-align: top;\n",
       "    }\n",
       "\n",
       "    .dataframe thead th {\n",
       "        text-align: right;\n",
       "    }\n",
       "</style>\n",
       "<table border=\"1\" class=\"dataframe\">\n",
       "  <thead>\n",
       "    <tr style=\"text-align: right;\">\n",
       "      <th></th>\n",
       "      <th>index</th>\n",
       "      <th>Año</th>\n",
       "      <th>Trimestre</th>\n",
       "      <th>Provincia</th>\n",
       "      <th>Accesos por cada 100 hogares</th>\n",
       "    </tr>\n",
       "  </thead>\n",
       "  <tbody>\n",
       "    <tr>\n",
       "      <th>0</th>\n",
       "      <td>0</td>\n",
       "      <td>2023</td>\n",
       "      <td>4</td>\n",
       "      <td>Buenos Aires</td>\n",
       "      <td>80.960000</td>\n",
       "    </tr>\n",
       "    <tr>\n",
       "      <th>1</th>\n",
       "      <td>1</td>\n",
       "      <td>2023</td>\n",
       "      <td>4</td>\n",
       "      <td>Capital Federal</td>\n",
       "      <td>117.020000</td>\n",
       "    </tr>\n",
       "    <tr>\n",
       "      <th>2</th>\n",
       "      <td>2</td>\n",
       "      <td>2023</td>\n",
       "      <td>4</td>\n",
       "      <td>Catamarca</td>\n",
       "      <td>68.630000</td>\n",
       "    </tr>\n",
       "    <tr>\n",
       "      <th>3</th>\n",
       "      <td>3</td>\n",
       "      <td>2023</td>\n",
       "      <td>4</td>\n",
       "      <td>Chaco</td>\n",
       "      <td>44.350000</td>\n",
       "    </tr>\n",
       "    <tr>\n",
       "      <th>4</th>\n",
       "      <td>4</td>\n",
       "      <td>2023</td>\n",
       "      <td>4</td>\n",
       "      <td>Chubut</td>\n",
       "      <td>84.960000</td>\n",
       "    </tr>\n",
       "    <tr>\n",
       "      <th>...</th>\n",
       "      <td>...</td>\n",
       "      <td>...</td>\n",
       "      <td>...</td>\n",
       "      <td>...</td>\n",
       "      <td>...</td>\n",
       "    </tr>\n",
       "    <tr>\n",
       "      <th>955</th>\n",
       "      <td>955</td>\n",
       "      <td>2014</td>\n",
       "      <td>1</td>\n",
       "      <td>Santa Cruz</td>\n",
       "      <td>28.939093</td>\n",
       "    </tr>\n",
       "    <tr>\n",
       "      <th>956</th>\n",
       "      <td>956</td>\n",
       "      <td>2014</td>\n",
       "      <td>1</td>\n",
       "      <td>Santa Fe</td>\n",
       "      <td>47.847663</td>\n",
       "    </tr>\n",
       "    <tr>\n",
       "      <th>957</th>\n",
       "      <td>957</td>\n",
       "      <td>2014</td>\n",
       "      <td>1</td>\n",
       "      <td>Santiago Del Estero</td>\n",
       "      <td>16.309924</td>\n",
       "    </tr>\n",
       "    <tr>\n",
       "      <th>958</th>\n",
       "      <td>958</td>\n",
       "      <td>2014</td>\n",
       "      <td>1</td>\n",
       "      <td>Tierra Del Fuego</td>\n",
       "      <td>63.965926</td>\n",
       "    </tr>\n",
       "    <tr>\n",
       "      <th>959</th>\n",
       "      <td>959</td>\n",
       "      <td>2014</td>\n",
       "      <td>1</td>\n",
       "      <td>Tucumán</td>\n",
       "      <td>33.420975</td>\n",
       "    </tr>\n",
       "  </tbody>\n",
       "</table>\n",
       "<p>960 rows × 5 columns</p>\n",
       "</div>"
      ],
      "text/plain": [
       "     index   Año  Trimestre            Provincia  Accesos por cada 100 hogares\n",
       "0        0  2023          4         Buenos Aires                     80.960000\n",
       "1        1  2023          4      Capital Federal                    117.020000\n",
       "2        2  2023          4            Catamarca                     68.630000\n",
       "3        3  2023          4                Chaco                     44.350000\n",
       "4        4  2023          4               Chubut                     84.960000\n",
       "..     ...   ...        ...                  ...                           ...\n",
       "955    955  2014          1           Santa Cruz                     28.939093\n",
       "956    956  2014          1             Santa Fe                     47.847663\n",
       "957    957  2014          1  Santiago Del Estero                     16.309924\n",
       "958    958  2014          1     Tierra Del Fuego                     63.965926\n",
       "959    959  2014          1              Tucumán                     33.420975\n",
       "\n",
       "[960 rows x 5 columns]"
      ]
     },
     "execution_count": 19,
     "metadata": {},
     "output_type": "execute_result"
    }
   ],
   "source": [
    "df_CP3"
   ]
  },
  {
   "cell_type": "markdown",
   "metadata": {},
   "source": [
    "### Drop Columns "
   ]
  },
  {
   "cell_type": "markdown",
   "metadata": {},
   "source": [
    "### Order"
   ]
  },
  {
   "cell_type": "markdown",
   "metadata": {},
   "source": [
    "### Rename"
   ]
  },
  {
   "cell_type": "markdown",
   "metadata": {},
   "source": [
    "### Dataframe maps"
   ]
  },
  {
   "cell_type": "code",
   "execution_count": 50,
   "metadata": {},
   "outputs": [],
   "source": [
    "#Hacemos un inner join de varias hojas.\n",
    "df_maps = pd.merge(df_CP1, df_CP2, on= 'index', how= 'inner')\n",
    "df_maps = pd.merge(df_maps, df_CP3, on= 'index', how= 'inner')"
   ]
  },
  {
   "cell_type": "code",
   "execution_count": 51,
   "metadata": {},
   "outputs": [],
   "source": [
    "#Eliminamos columnas, ponemos mayuscula y quitamos tilde en provincia.\n",
    "df_maps = df_maps[['index','Año','Trimestre','Provincia','Mbps (Media de bajada)','Accesos por cada 100 hab','Accesos por cada 100 hogares']]\n",
    "df_maps['Provincia'] = df_maps['Provincia'].str.upper()\n",
    "df_maps['Provincia'] = df_maps['Provincia'].apply(unidecode)"
   ]
  },
  {
   "cell_type": "code",
   "execution_count": 7,
   "metadata": {},
   "outputs": [],
   "source": [
    "#Encontramos la longitud y latitud promedio de cada provincia.\n",
    "df_CC1 = df_CC1[['Provincia', 'Latitud', 'Longitud']]\n",
    "df_provincias = df_CC1.groupby('Provincia').agg({'Latitud': 'mean', 'Longitud': 'mean'}).reset_index()"
   ]
  },
  {
   "cell_type": "code",
   "execution_count": 52,
   "metadata": {},
   "outputs": [],
   "source": [
    "#Hacemos left join para dejar cada provincia con una latitud y longitud.\n",
    "df_maps = pd.merge(df_maps,df_provincias, on= 'Provincia', how= 'left')"
   ]
  },
  {
   "cell_type": "code",
   "execution_count": 53,
   "metadata": {},
   "outputs": [],
   "source": [
    "#Guardamos\n",
    "df_maps.to_csv('df_maps.csv',index= False)"
   ]
  }
 ],
 "metadata": {
  "kernelspec": {
   "display_name": "envPI2",
   "language": "python",
   "name": "python3"
  },
  "language_info": {
   "codemirror_mode": {
    "name": "ipython",
    "version": 3
   },
   "file_extension": ".py",
   "mimetype": "text/x-python",
   "name": "python",
   "nbconvert_exporter": "python",
   "pygments_lexer": "ipython3",
   "version": "3.12.4"
  }
 },
 "nbformat": 4,
 "nbformat_minor": 2
}
