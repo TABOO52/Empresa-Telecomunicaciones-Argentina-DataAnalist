{
 "cells": [
  {
   "cell_type": "code",
   "execution_count": 4,
   "metadata": {},
   "outputs": [],
   "source": [
    "import pandas as pd\n",
    "import numpy as np"
   ]
  },
  {
   "cell_type": "code",
   "execution_count": 5,
   "metadata": {},
   "outputs": [],
   "source": [
    "basepath = 'C:/Users/fate8/Desktop/PI2/'"
   ]
  },
  {
   "cell_type": "code",
   "execution_count": 10,
   "metadata": {},
   "outputs": [],
   "source": [
    "internet = basepath + 'data/Internet.xlsx'\n",
    "portabilidad = basepath + 'data/Portabilidad.xlsx'\n",
    "servicios_postales = basepath + 'data/servicios_postales.xlsx'\n",
    "telefonia_fija = basepath + 'data/Telefonia_fija.xlsx'"
   ]
  },
  {
   "cell_type": "code",
   "execution_count": 7,
   "metadata": {},
   "outputs": [
    {
     "data": {
      "text/plain": [
       "'C:/Users/fate8/Desktop/PI2/data/Portabilidad.xlsx'"
      ]
     },
     "execution_count": 7,
     "metadata": {},
     "output_type": "execute_result"
    }
   ],
   "source": [
    "portabilidad"
   ]
  },
  {
   "cell_type": "code",
   "execution_count": 11,
   "metadata": {},
   "outputs": [],
   "source": [
    "df_CP1 = pd.read_excel(internet ,sheet_name= 'Acc_vel_loc_sinrangos')\n",
    "df_CP2 = pd.read_excel(internet ,sheet_name= 'Velocidad % por prov')\n",
    "df_CP3 = pd.read_excel(internet ,sheet_name= 'Accesos_tecnologia_localidad')\n",
    "df_CP4 = pd.read_excel(internet ,sheet_name= 'Penetración-poblacion')\n",
    "df_CP5 = pd.read_excel(internet ,sheet_name= 'Penetracion-hogares')\n",
    "df_CP6 = pd.read_excel(internet ,sheet_name= 'Penetracion-totales')\n",
    "df_CP7 = pd.read_excel(internet ,sheet_name= 'Accesos por velocidad')\n",
    "df_CP8 = pd.read_excel(internet ,sheet_name= 'Ingresos')\n",
    "\n",
    "df_CC1 = pd.read_excel(portabilidad ,sheet_name= 'Portin')\n",
    "df_CC2 = pd.read_excel(servicios_postales ,sheet_name= 'unidades_telegraficas')\n",
    "df_CC3 = pd.read_excel(servicios_postales ,sheet_name= 'unidades_monetarios')\n",
    "df_CC4 = pd.read_excel(telefonia_fija ,sheet_name= 'Fija_ingresos')\n"
   ]
  },
  {
   "cell_type": "markdown",
   "metadata": {},
   "source": [
    "   # Índice\n",
    "\n",
    "   1. [Drop columns](#drop-columns)\n",
    "   2. [Order](#order)\n",
    "   3. [Rename](#rename)"
   ]
  },
  {
   "cell_type": "markdown",
   "metadata": {},
   "source": [
    "### Drop Columns "
   ]
  },
  {
   "cell_type": "markdown",
   "metadata": {},
   "source": [
    "### Order"
   ]
  },
  {
   "cell_type": "markdown",
   "metadata": {},
   "source": [
    "### Rename"
   ]
  }
 ],
 "metadata": {
  "kernelspec": {
   "display_name": "envPI2",
   "language": "python",
   "name": "python3"
  },
  "language_info": {
   "codemirror_mode": {
    "name": "ipython",
    "version": 3
   },
   "file_extension": ".py",
   "mimetype": "text/x-python",
   "name": "python",
   "nbconvert_exporter": "python",
   "pygments_lexer": "ipython3",
   "version": "3.12.4"
  }
 },
 "nbformat": 4,
 "nbformat_minor": 2
}
