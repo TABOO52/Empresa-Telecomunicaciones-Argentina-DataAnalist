{
 "cells": [
  {
   "cell_type": "code",
   "execution_count": 1,
   "metadata": {},
   "outputs": [],
   "source": [
    "import pandas as pd\n",
    "import numpy as np\n",
    "from unidecode import unidecode"
   ]
  },
  {
   "cell_type": "code",
   "execution_count": 2,
   "metadata": {},
   "outputs": [],
   "source": [
    "basepath = 'C:/Users/fate8/Desktop/PI2/'"
   ]
  },
  {
   "cell_type": "code",
   "execution_count": 3,
   "metadata": {},
   "outputs": [],
   "source": [
    "internet = basepath + 'data/Internet.xlsx'\n",
    "portabilidad = basepath + 'data/Portabilidad.xlsx'\n",
    "servicios_postales = basepath + 'data/servicios_postales.xlsx'\n",
    "telefonia_fija = basepath + 'data/Telefonia_fija.xlsx'\n",
    "mapa_conectividad = basepath + 'data/mapa_conectividad.xlsx'"
   ]
  },
  {
   "cell_type": "code",
   "execution_count": 4,
   "metadata": {},
   "outputs": [],
   "source": [
    "df_CP1 = pd.read_excel(internet ,sheet_name= 'Velocidad % por prov')\n",
    "df_CP2 = pd.read_excel(internet ,sheet_name= 'Penetración-poblacion')\n",
    "df_CP3 = pd.read_excel(internet ,sheet_name= 'Penetracion-hogares')\n",
    "df_CP5 = pd.read_excel(internet ,sheet_name= 'Accesos por velocidad')\n",
    "df_CP6 = pd.read_excel(internet ,sheet_name= 'Ingresos')\n",
    "\n",
    "df_CC1 = pd.read_excel(mapa_conectividad ,sheet_name= 'Hoja3')\n",
    "df_CC2 = pd.read_excel(portabilidad ,sheet_name= 'Portin')\n",
    "df_CC3 = pd.read_excel(servicios_postales ,sheet_name= 'unidades_telegraficas')\n",
    "df_CC4 = pd.read_excel(servicios_postales ,sheet_name= 'unidades_monetarios')\n",
    "df_CC5 = pd.read_excel(telefonia_fija ,sheet_name= 'Fija_ingresos')\n",
    "\n"
   ]
  },
  {
   "cell_type": "markdown",
   "metadata": {},
   "source": [
    "   # Índice\n",
    "\n",
    "   1. [Drop columns](#drop-columns)\n",
    "   2. [Order](#order)\n",
    "   3. [Rename](#rename)\n",
    "   "
   ]
  },
  {
   "cell_type": "code",
   "execution_count": 14,
   "metadata": {},
   "outputs": [],
   "source": [
    "df_CP1 = df_CP1.reset_index()\n",
    "df_CP2 = df_CP2.reset_index()\n",
    "df_CP3 = df_CP3.reset_index()"
   ]
  },
  {
   "cell_type": "code",
   "execution_count": 50,
   "metadata": {},
   "outputs": [],
   "source": [
    "#Hacemos un inner join de varias hojas.\n",
    "df_maps = pd.merge(df_CP1, df_CP2, on= 'index', how= 'inner')\n",
    "df_maps = pd.merge(df_maps, df_CP3, on= 'index', how= 'inner')"
   ]
  },
  {
   "cell_type": "code",
   "execution_count": 51,
   "metadata": {},
   "outputs": [],
   "source": [
    "#Eliminamos columnas, ponemos mayuscula y quitamos tilde en provincia.\n",
    "df_maps = df_maps[['index','Año','Trimestre','Provincia','Mbps (Media de bajada)','Accesos por cada 100 hab','Accesos por cada 100 hogares']]\n",
    "df_maps['Provincia'] = df_maps['Provincia'].str.upper()\n",
    "df_maps['Provincia'] = df_maps['Provincia'].apply(unidecode)"
   ]
  },
  {
   "cell_type": "code",
   "execution_count": 7,
   "metadata": {},
   "outputs": [],
   "source": [
    "#Encontramos la longitud y latitud promedio de cada provincia.\n",
    "df_CC1 = df_CC1[['Provincia', 'Latitud', 'Longitud']]\n",
    "df_provincias = df_CC1.groupby('Provincia').agg({'Latitud': 'mean', 'Longitud': 'mean'}).reset_index()"
   ]
  },
  {
   "cell_type": "code",
   "execution_count": 52,
   "metadata": {},
   "outputs": [],
   "source": [
    "#Hacemos left join para dejar cada provincia con una latitud y longitud.\n",
    "df_maps = pd.merge(df_maps,df_provincias, on= 'Provincia', how= 'left')"
   ]
  },
  {
   "cell_type": "code",
   "execution_count": 53,
   "metadata": {},
   "outputs": [],
   "source": [
    "#Guardamos\n",
    "df_maps.to_csv('df_maps.csv',index= False)"
   ]
  }
 ],
 "metadata": {
  "kernelspec": {
   "display_name": "envPI2",
   "language": "python",
   "name": "python3"
  },
  "language_info": {
   "codemirror_mode": {
    "name": "ipython",
    "version": 3
   },
   "file_extension": ".py",
   "mimetype": "text/x-python",
   "name": "python",
   "nbconvert_exporter": "python",
   "pygments_lexer": "ipython3",
   "version": "3.12.4"
  }
 },
 "nbformat": 4,
 "nbformat_minor": 2
}
