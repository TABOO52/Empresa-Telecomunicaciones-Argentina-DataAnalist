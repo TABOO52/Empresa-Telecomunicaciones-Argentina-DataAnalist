{
 "cells": [
  {
   "cell_type": "code",
   "execution_count": 40,
   "metadata": {},
   "outputs": [],
   "source": [
    "import pandas as pd\n",
    "import numpy as np\n",
    "from unidecode import unidecode"
   ]
  },
  {
   "cell_type": "code",
   "execution_count": 3,
   "metadata": {},
   "outputs": [],
   "source": [
    "basepath = 'C:/Users/fate8/Desktop/PI2/'"
   ]
  },
  {
   "cell_type": "code",
   "execution_count": 4,
   "metadata": {},
   "outputs": [],
   "source": [
    "internet = basepath + 'data/Internet.xlsx'\n",
    "portabilidad = basepath + 'data/Portabilidad.xlsx'\n",
    "servicios_postales = basepath + 'data/servicios_postales.xlsx'\n",
    "telefonia_fija = basepath + 'data/Telefonia_fija.xlsx'\n",
    "mapa_conectividad = basepath + 'data/mapa_conectividad.xlsx'"
   ]
  },
  {
   "cell_type": "code",
   "execution_count": 5,
   "metadata": {},
   "outputs": [],
   "source": [
    "df_CP1 = pd.read_excel(internet ,sheet_name= 'Velocidad % por prov')\n",
    "df_CP2 = pd.read_excel(internet ,sheet_name= 'Penetración-poblacion')\n",
    "df_CP3 = pd.read_excel(internet ,sheet_name= 'Penetracion-hogares')\n",
    "df_CP4 = pd.read_excel(internet ,sheet_name= 'Penetracion-totales')\n",
    "df_CP5 = pd.read_excel(internet ,sheet_name= 'Accesos por velocidad')\n",
    "df_CP6 = pd.read_excel(internet ,sheet_name= 'Ingresos')\n",
    "\n",
    "df_CC1 = pd.read_excel(mapa_conectividad ,sheet_name= 'Hoja3')\n",
    "df_CC2 = pd.read_excel(portabilidad ,sheet_name= 'Portin')\n",
    "df_CC3 = pd.read_excel(servicios_postales ,sheet_name= 'unidades_telegraficas')\n",
    "df_CC4 = pd.read_excel(servicios_postales ,sheet_name= 'unidades_monetarios')\n",
    "df_CC5 = pd.read_excel(telefonia_fija ,sheet_name= 'Fija_ingresos')\n",
    "\n"
   ]
  },
  {
   "cell_type": "markdown",
   "metadata": {},
   "source": [
    "   # Índice\n",
    "\n",
    "   1. [Drop columns](#drop-columns)\n",
    "   2. [Order](#order)\n",
    "   3. [Rename](#rename)\n",
    "   "
   ]
  },
  {
   "cell_type": "code",
   "execution_count": 14,
   "metadata": {},
   "outputs": [],
   "source": [
    "df_CP1 = df_CP1.reset_index()\n",
    "df_CP2 = df_CP2.reset_index()\n",
    "df_CP3 = df_CP3.reset_index()"
   ]
  },
  {
   "cell_type": "code",
   "execution_count": 12,
   "metadata": {},
   "outputs": [
    {
     "data": {
      "text/plain": [
       "(960, 4)"
      ]
     },
     "execution_count": 12,
     "metadata": {},
     "output_type": "execute_result"
    }
   ],
   "source": [
    "df_CP2"
   ]
  },
  {
   "cell_type": "code",
   "execution_count": 19,
   "metadata": {},
   "outputs": [
    {
     "data": {
      "text/html": [
       "<div>\n",
       "<style scoped>\n",
       "    .dataframe tbody tr th:only-of-type {\n",
       "        vertical-align: middle;\n",
       "    }\n",
       "\n",
       "    .dataframe tbody tr th {\n",
       "        vertical-align: top;\n",
       "    }\n",
       "\n",
       "    .dataframe thead th {\n",
       "        text-align: right;\n",
       "    }\n",
       "</style>\n",
       "<table border=\"1\" class=\"dataframe\">\n",
       "  <thead>\n",
       "    <tr style=\"text-align: right;\">\n",
       "      <th></th>\n",
       "      <th>index</th>\n",
       "      <th>Año</th>\n",
       "      <th>Trimestre</th>\n",
       "      <th>Provincia</th>\n",
       "      <th>Accesos por cada 100 hogares</th>\n",
       "    </tr>\n",
       "  </thead>\n",
       "  <tbody>\n",
       "    <tr>\n",
       "      <th>0</th>\n",
       "      <td>0</td>\n",
       "      <td>2023</td>\n",
       "      <td>4</td>\n",
       "      <td>Buenos Aires</td>\n",
       "      <td>80.960000</td>\n",
       "    </tr>\n",
       "    <tr>\n",
       "      <th>1</th>\n",
       "      <td>1</td>\n",
       "      <td>2023</td>\n",
       "      <td>4</td>\n",
       "      <td>Capital Federal</td>\n",
       "      <td>117.020000</td>\n",
       "    </tr>\n",
       "    <tr>\n",
       "      <th>2</th>\n",
       "      <td>2</td>\n",
       "      <td>2023</td>\n",
       "      <td>4</td>\n",
       "      <td>Catamarca</td>\n",
       "      <td>68.630000</td>\n",
       "    </tr>\n",
       "    <tr>\n",
       "      <th>3</th>\n",
       "      <td>3</td>\n",
       "      <td>2023</td>\n",
       "      <td>4</td>\n",
       "      <td>Chaco</td>\n",
       "      <td>44.350000</td>\n",
       "    </tr>\n",
       "    <tr>\n",
       "      <th>4</th>\n",
       "      <td>4</td>\n",
       "      <td>2023</td>\n",
       "      <td>4</td>\n",
       "      <td>Chubut</td>\n",
       "      <td>84.960000</td>\n",
       "    </tr>\n",
       "    <tr>\n",
       "      <th>...</th>\n",
       "      <td>...</td>\n",
       "      <td>...</td>\n",
       "      <td>...</td>\n",
       "      <td>...</td>\n",
       "      <td>...</td>\n",
       "    </tr>\n",
       "    <tr>\n",
       "      <th>955</th>\n",
       "      <td>955</td>\n",
       "      <td>2014</td>\n",
       "      <td>1</td>\n",
       "      <td>Santa Cruz</td>\n",
       "      <td>28.939093</td>\n",
       "    </tr>\n",
       "    <tr>\n",
       "      <th>956</th>\n",
       "      <td>956</td>\n",
       "      <td>2014</td>\n",
       "      <td>1</td>\n",
       "      <td>Santa Fe</td>\n",
       "      <td>47.847663</td>\n",
       "    </tr>\n",
       "    <tr>\n",
       "      <th>957</th>\n",
       "      <td>957</td>\n",
       "      <td>2014</td>\n",
       "      <td>1</td>\n",
       "      <td>Santiago Del Estero</td>\n",
       "      <td>16.309924</td>\n",
       "    </tr>\n",
       "    <tr>\n",
       "      <th>958</th>\n",
       "      <td>958</td>\n",
       "      <td>2014</td>\n",
       "      <td>1</td>\n",
       "      <td>Tierra Del Fuego</td>\n",
       "      <td>63.965926</td>\n",
       "    </tr>\n",
       "    <tr>\n",
       "      <th>959</th>\n",
       "      <td>959</td>\n",
       "      <td>2014</td>\n",
       "      <td>1</td>\n",
       "      <td>Tucumán</td>\n",
       "      <td>33.420975</td>\n",
       "    </tr>\n",
       "  </tbody>\n",
       "</table>\n",
       "<p>960 rows × 5 columns</p>\n",
       "</div>"
      ],
      "text/plain": [
       "     index   Año  Trimestre            Provincia  Accesos por cada 100 hogares\n",
       "0        0  2023          4         Buenos Aires                     80.960000\n",
       "1        1  2023          4      Capital Federal                    117.020000\n",
       "2        2  2023          4            Catamarca                     68.630000\n",
       "3        3  2023          4                Chaco                     44.350000\n",
       "4        4  2023          4               Chubut                     84.960000\n",
       "..     ...   ...        ...                  ...                           ...\n",
       "955    955  2014          1           Santa Cruz                     28.939093\n",
       "956    956  2014          1             Santa Fe                     47.847663\n",
       "957    957  2014          1  Santiago Del Estero                     16.309924\n",
       "958    958  2014          1     Tierra Del Fuego                     63.965926\n",
       "959    959  2014          1              Tucumán                     33.420975\n",
       "\n",
       "[960 rows x 5 columns]"
      ]
     },
     "execution_count": 19,
     "metadata": {},
     "output_type": "execute_result"
    }
   ],
   "source": [
    "df_CP3"
   ]
  },
  {
   "cell_type": "markdown",
   "metadata": {},
   "source": [
    "### Drop Columns "
   ]
  },
  {
   "cell_type": "markdown",
   "metadata": {},
   "source": [
    "### Order"
   ]
  },
  {
   "cell_type": "markdown",
   "metadata": {},
   "source": [
    "### Rename"
   ]
  },
  {
   "cell_type": "markdown",
   "metadata": {},
   "source": [
    "### Dataframes Limpios"
   ]
  },
  {
   "cell_type": "code",
   "execution_count": 35,
   "metadata": {},
   "outputs": [],
   "source": [
    "df_maps = pd.merge(df_CP1, df_CP2, on= 'index', how= 'inner')\n",
    "df_maps = pd.merge(df_maps, df_CP3, on= 'index', how= 'inner')"
   ]
  },
  {
   "cell_type": "code",
   "execution_count": 45,
   "metadata": {},
   "outputs": [
    {
     "name": "stderr",
     "output_type": "stream",
     "text": [
      "C:\\Users\\fate8\\AppData\\Local\\Temp\\ipykernel_9024\\4008800734.py:2: SettingWithCopyWarning: \n",
      "A value is trying to be set on a copy of a slice from a DataFrame.\n",
      "Try using .loc[row_indexer,col_indexer] = value instead\n",
      "\n",
      "See the caveats in the documentation: https://pandas.pydata.org/pandas-docs/stable/user_guide/indexing.html#returning-a-view-versus-a-copy\n",
      "  df_maps['Provincia'] = df_maps['Provincia'].str.upper()\n",
      "C:\\Users\\fate8\\AppData\\Local\\Temp\\ipykernel_9024\\4008800734.py:3: SettingWithCopyWarning: \n",
      "A value is trying to be set on a copy of a slice from a DataFrame.\n",
      "Try using .loc[row_indexer,col_indexer] = value instead\n",
      "\n",
      "See the caveats in the documentation: https://pandas.pydata.org/pandas-docs/stable/user_guide/indexing.html#returning-a-view-versus-a-copy\n",
      "  df_maps['Provincia'] = df_maps['Provincia'].apply(unidecode)\n"
     ]
    }
   ],
   "source": [
    "df_maps = df_maps[['index','Provincia','Mbps (Media de bajada)','Accesos por cada 100 hab','Accesos por cada 100 hogares']]\n",
    "df_maps['Provincia'] = df_maps['Provincia'].str.upper()\n",
    "df_maps['Provincia'] = df_maps['Provincia'].apply(unidecode)"
   ]
  },
  {
   "cell_type": "code",
   "execution_count": 7,
   "metadata": {},
   "outputs": [],
   "source": [
    "#Encontramos la longitud y latitud promedio de cada provincia.\n",
    "df_CC1 = df_CC1[['Provincia', 'Latitud', 'Longitud']]\n",
    "df_provincias = df_CC1.groupby('Provincia').agg({'Latitud': 'mean', 'Longitud': 'mean'}).reset_index()"
   ]
  },
  {
   "cell_type": "code",
   "execution_count": 29,
   "metadata": {},
   "outputs": [
    {
     "data": {
      "text/html": [
       "<div>\n",
       "<style scoped>\n",
       "    .dataframe tbody tr th:only-of-type {\n",
       "        vertical-align: middle;\n",
       "    }\n",
       "\n",
       "    .dataframe tbody tr th {\n",
       "        vertical-align: top;\n",
       "    }\n",
       "\n",
       "    .dataframe thead th {\n",
       "        text-align: right;\n",
       "    }\n",
       "</style>\n",
       "<table border=\"1\" class=\"dataframe\">\n",
       "  <thead>\n",
       "    <tr style=\"text-align: right;\">\n",
       "      <th></th>\n",
       "      <th>Provincia</th>\n",
       "      <th>Latitud</th>\n",
       "      <th>Longitud</th>\n",
       "    </tr>\n",
       "  </thead>\n",
       "  <tbody>\n",
       "    <tr>\n",
       "      <th>0</th>\n",
       "      <td>BUENOS AIRES</td>\n",
       "      <td>-35.633728</td>\n",
       "      <td>-59.695393</td>\n",
       "    </tr>\n",
       "    <tr>\n",
       "      <th>1</th>\n",
       "      <td>CABA</td>\n",
       "      <td>-34.612765</td>\n",
       "      <td>-58.450153</td>\n",
       "    </tr>\n",
       "    <tr>\n",
       "      <th>2</th>\n",
       "      <td>CATAMARCA</td>\n",
       "      <td>-27.972735</td>\n",
       "      <td>-66.127140</td>\n",
       "    </tr>\n",
       "    <tr>\n",
       "      <th>3</th>\n",
       "      <td>CHACO</td>\n",
       "      <td>-26.862077</td>\n",
       "      <td>-60.155117</td>\n",
       "    </tr>\n",
       "    <tr>\n",
       "      <th>4</th>\n",
       "      <td>CHUBUT</td>\n",
       "      <td>-44.077152</td>\n",
       "      <td>-68.667653</td>\n",
       "    </tr>\n",
       "    <tr>\n",
       "      <th>5</th>\n",
       "      <td>CORDOBA</td>\n",
       "      <td>-31.846608</td>\n",
       "      <td>-63.962146</td>\n",
       "    </tr>\n",
       "    <tr>\n",
       "      <th>6</th>\n",
       "      <td>CORRIENTES</td>\n",
       "      <td>-28.615781</td>\n",
       "      <td>-57.975336</td>\n",
       "    </tr>\n",
       "    <tr>\n",
       "      <th>7</th>\n",
       "      <td>ENTRE RIOS</td>\n",
       "      <td>-31.925168</td>\n",
       "      <td>-59.263021</td>\n",
       "    </tr>\n",
       "    <tr>\n",
       "      <th>8</th>\n",
       "      <td>FORMOSA</td>\n",
       "      <td>-25.093160</td>\n",
       "      <td>-59.468602</td>\n",
       "    </tr>\n",
       "    <tr>\n",
       "      <th>9</th>\n",
       "      <td>JUJUY</td>\n",
       "      <td>-23.523573</td>\n",
       "      <td>-65.438053</td>\n",
       "    </tr>\n",
       "    <tr>\n",
       "      <th>10</th>\n",
       "      <td>LA PAMPA</td>\n",
       "      <td>-36.477142</td>\n",
       "      <td>-64.455341</td>\n",
       "    </tr>\n",
       "    <tr>\n",
       "      <th>11</th>\n",
       "      <td>LA RIOJA</td>\n",
       "      <td>-29.330864</td>\n",
       "      <td>-67.139835</td>\n",
       "    </tr>\n",
       "    <tr>\n",
       "      <th>12</th>\n",
       "      <td>MENDOZA</td>\n",
       "      <td>-33.368796</td>\n",
       "      <td>-68.685346</td>\n",
       "    </tr>\n",
       "    <tr>\n",
       "      <th>13</th>\n",
       "      <td>MISIONES</td>\n",
       "      <td>-27.058215</td>\n",
       "      <td>-54.967249</td>\n",
       "    </tr>\n",
       "    <tr>\n",
       "      <th>14</th>\n",
       "      <td>NEUQUEN</td>\n",
       "      <td>-38.499543</td>\n",
       "      <td>-69.874212</td>\n",
       "    </tr>\n",
       "    <tr>\n",
       "      <th>15</th>\n",
       "      <td>RIO NEGRO</td>\n",
       "      <td>-39.896450</td>\n",
       "      <td>-67.610511</td>\n",
       "    </tr>\n",
       "    <tr>\n",
       "      <th>16</th>\n",
       "      <td>SALTA</td>\n",
       "      <td>-24.248014</td>\n",
       "      <td>-64.702507</td>\n",
       "    </tr>\n",
       "    <tr>\n",
       "      <th>17</th>\n",
       "      <td>SAN JUAN</td>\n",
       "      <td>-31.314426</td>\n",
       "      <td>-68.503344</td>\n",
       "    </tr>\n",
       "    <tr>\n",
       "      <th>18</th>\n",
       "      <td>SAN LUIS</td>\n",
       "      <td>-32.982646</td>\n",
       "      <td>-65.886839</td>\n",
       "    </tr>\n",
       "    <tr>\n",
       "      <th>19</th>\n",
       "      <td>SANTA CRUZ</td>\n",
       "      <td>-48.863730</td>\n",
       "      <td>-69.863734</td>\n",
       "    </tr>\n",
       "    <tr>\n",
       "      <th>20</th>\n",
       "      <td>SANTA FE</td>\n",
       "      <td>-31.646343</td>\n",
       "      <td>-61.047261</td>\n",
       "    </tr>\n",
       "    <tr>\n",
       "      <th>21</th>\n",
       "      <td>SANTIAGO DEL ESTERO</td>\n",
       "      <td>-27.784104</td>\n",
       "      <td>-63.621900</td>\n",
       "    </tr>\n",
       "    <tr>\n",
       "      <th>22</th>\n",
       "      <td>TIERRA DEL FUEGO</td>\n",
       "      <td>-62.350152</td>\n",
       "      <td>-59.531910</td>\n",
       "    </tr>\n",
       "    <tr>\n",
       "      <th>23</th>\n",
       "      <td>TUCUMAN</td>\n",
       "      <td>-26.998180</td>\n",
       "      <td>-65.294537</td>\n",
       "    </tr>\n",
       "  </tbody>\n",
       "</table>\n",
       "</div>"
      ],
      "text/plain": [
       "              Provincia    Latitud   Longitud\n",
       "0          BUENOS AIRES -35.633728 -59.695393\n",
       "1                  CABA -34.612765 -58.450153\n",
       "2             CATAMARCA -27.972735 -66.127140\n",
       "3                 CHACO -26.862077 -60.155117\n",
       "4                CHUBUT -44.077152 -68.667653\n",
       "5               CORDOBA -31.846608 -63.962146\n",
       "6            CORRIENTES -28.615781 -57.975336\n",
       "7            ENTRE RIOS -31.925168 -59.263021\n",
       "8               FORMOSA -25.093160 -59.468602\n",
       "9                 JUJUY -23.523573 -65.438053\n",
       "10             LA PAMPA -36.477142 -64.455341\n",
       "11             LA RIOJA -29.330864 -67.139835\n",
       "12              MENDOZA -33.368796 -68.685346\n",
       "13             MISIONES -27.058215 -54.967249\n",
       "14              NEUQUEN -38.499543 -69.874212\n",
       "15            RIO NEGRO -39.896450 -67.610511\n",
       "16                SALTA -24.248014 -64.702507\n",
       "17             SAN JUAN -31.314426 -68.503344\n",
       "18             SAN LUIS -32.982646 -65.886839\n",
       "19           SANTA CRUZ -48.863730 -69.863734\n",
       "20             SANTA FE -31.646343 -61.047261\n",
       "21  SANTIAGO DEL ESTERO -27.784104 -63.621900\n",
       "22     TIERRA DEL FUEGO -62.350152 -59.531910\n",
       "23              TUCUMAN -26.998180 -65.294537"
      ]
     },
     "execution_count": 29,
     "metadata": {},
     "output_type": "execute_result"
    }
   ],
   "source": [
    "df_provincias"
   ]
  },
  {
   "cell_type": "code",
   "execution_count": 46,
   "metadata": {},
   "outputs": [],
   "source": [
    "df_maps = pd.merge(df_maps,df_provincias, on= 'Provincia', how= 'left')"
   ]
  },
  {
   "cell_type": "code",
   "execution_count": 48,
   "metadata": {},
   "outputs": [],
   "source": [
    "df_maps.to_csv('df_maps.csv',index= False)"
   ]
  }
 ],
 "metadata": {
  "kernelspec": {
   "display_name": "envPI2",
   "language": "python",
   "name": "python3"
  },
  "language_info": {
   "codemirror_mode": {
    "name": "ipython",
    "version": 3
   },
   "file_extension": ".py",
   "mimetype": "text/x-python",
   "name": "python",
   "nbconvert_exporter": "python",
   "pygments_lexer": "ipython3",
   "version": "3.12.4"
  }
 },
 "nbformat": 4,
 "nbformat_minor": 2
}
